{
  "nbformat": 4,
  "nbformat_minor": 0,
  "metadata": {
    "colab": {
      "provenance": [],
      "authorship_tag": "ABX9TyNeW2Z8czZWxcHtZ20kTfXZ",
      "include_colab_link": true
    },
    "kernelspec": {
      "name": "python3",
      "display_name": "Python 3"
    },
    "language_info": {
      "name": "python"
    }
  },
  "cells": [
    {
      "cell_type": "markdown",
      "metadata": {
        "id": "view-in-github",
        "colab_type": "text"
      },
      "source": [
        "<a href=\"https://colab.research.google.com/github/andrealabelli/Cybersecurity-Management-Labs/blob/main/Task1_Lab1.ipynb\" target=\"_parent\"><img src=\"https://colab.research.google.com/assets/colab-badge.svg\" alt=\"Open In Colab\"/></a>"
      ]
    },
    {
      "cell_type": "code",
      "source": [
        "!pip install pycryptodomex\n",
        "!pip install PyPDF2\n",
        "!pip install pdfreader"
      ],
      "metadata": {
        "colab": {
          "base_uri": "https://localhost:8080/"
        },
        "id": "QTJGH0yq5cai",
        "outputId": "87c6bbf7-8e6f-4fce-d506-d62ab86a2755"
      },
      "execution_count": null,
      "outputs": [
        {
          "output_type": "stream",
          "name": "stdout",
          "text": [
            "Requirement already satisfied: pycryptodomex in /usr/local/lib/python3.10/dist-packages (3.20.0)\n",
            "Requirement already satisfied: PyPDF2 in /usr/local/lib/python3.10/dist-packages (3.0.1)\n",
            "Requirement already satisfied: pdfreader in /usr/local/lib/python3.10/dist-packages (0.1.12)\n",
            "Requirement already satisfied: bitarray>=1.1.0 in /usr/local/lib/python3.10/dist-packages (from pdfreader) (2.9.2)\n",
            "Requirement already satisfied: pillow>=7.1.0 in /usr/local/lib/python3.10/dist-packages (from pdfreader) (9.4.0)\n",
            "Requirement already satisfied: pycryptodome>=3.9.9 in /usr/local/lib/python3.10/dist-packages (from pdfreader) (3.20.0)\n",
            "Requirement already satisfied: python-dateutil>=2.8.1 in /usr/local/lib/python3.10/dist-packages (from pdfreader) (2.8.2)\n",
            "Requirement already satisfied: six>=1.5 in /usr/local/lib/python3.10/dist-packages (from python-dateutil>=2.8.1->pdfreader) (1.16.0)\n"
          ]
        }
      ]
    },
    {
      "cell_type": "code",
      "source": [
        "from Cryptodome.Cipher import AES\n",
        "from Cryptodome.Util.Padding import pad\n",
        "import io\n",
        "import pdfreader\n",
        "import re\n",
        "\n",
        "# Function that takes the encrypted text and the number of bytes to be used for the encryption key as arguments\n",
        "def decrypt_key(ciphertext, number_of_bytes):\n",
        "    for k in range(2 ** number_of_bytes):   # It iterates through all possible keys of lenght 16\n",
        "        binary_key = bin(k)[2:].zfill(number_of_bytes)\n",
        "        key = bytes(binary_key, 'utf-8')\n",
        "        cipher = AES.new(key, AES.MODE_ECB)\n",
        "        decrypted_text = cipher.decrypt(ciphertext)\n",
        "        if b'ctrm' in decrypted_text:\n",
        "            print(f\"Key found on attempt number {k}:\", key)\n",
        "            print(\"Decrypted text:\", decrypted_text)\n",
        "            return decrypted_text\n",
        "\n",
        "with open(\"task1.pdf.enc\", \"rb\") as encrypted_file:\n",
        "    ciphertext = encrypted_file.read()\n",
        "\n",
        "# Function that takes the encrypted text and returns the secret inside the metadata\n",
        "def read_crypted_pdf(ciphertext):\n",
        "    bytes_text = decrypt_key(ciphertext, 16)\n",
        "    packet = io.BytesIO(bytes_text)    # Creates a binary string from the decrypted bytes\n",
        "    packet.seek(0)\n",
        "    decrypted_pdf = pdfreader.PDFDocument(packet)  # Processing of the decrypted PDF\n",
        "\n",
        "    metadata = decrypted_pdf.metadata  # Retrieves the metadata associated with the PDF document\n",
        "    print(\"\\nMetadata:\")\n",
        "    for key, value in metadata.items():\n",
        "        print(f\"{key}: {value}\")       # Prints each key-value pair of the metadata\n",
        "        match = re.search(r'ctrm{(.*)}', value)   # It searches for a specific pattern\n",
        "        if match:\n",
        "            print(\"Secret: \", match.group(1))     # If a match is found, it returns the secret inside the metadata\n",
        "            break\n",
        "\n",
        "# Pass the ciphertext bytes to read_crypted_pdf function\n",
        "read_crypted_pdf(ciphertext)\n",
        "\n",
        "# Write the decrypted data to a new file\n",
        "decrypted_file_path = \"decrypted_task1.pdf\"\n",
        "with open(decrypted_file_path, \"wb\") as decrypted_file:\n",
        "    decrypted_file.write(decrypted_data)\n",
        "\n",
        "# Read the decrypted PDF\n",
        "print(\"\\nWait for the generation of the decrypted file...\")\n",
        "print(\"\\nDecrypted PDF written to:\", decrypted_file_path)"
      ],
      "metadata": {
        "colab": {
          "base_uri": "https://localhost:8080/"
        },
        "outputId": "c1c41bcf-f4f8-4a03-8f76-db8f1f5a23ba",
        "id": "i2yJlKyUijKF"
      },
      "execution_count": null,
      "outputs": [
        {
          "output_type": "stream",
          "name": "stdout",
          "text": [
            "Key found on attempt number 46434: b'1011010101100010'\n",
            "Decrypted text: b\"%PDF-1.3\\n%\\xe2\\xe3\\xcf\\xd3\\n1 0 obj\\n<<\\n/Type /Pages\\n/Count 1\\n/Kids [ 4 0 R ]\\n>>\\nendobj\\n2 0 obj\\n<<\\n/Producer (CTRM)\\n/Author (CTRM)\\n/Flag (ctrm\\\\173weak\\\\137keys\\\\137can\\\\137be\\\\137problematic\\\\175)\\n>>\\nendobj\\n3 0 obj\\n<<\\n/Type /Catalog\\n/Pages 1 0 R\\n>>\\nendobj\\n4 0 obj\\n<<\\n/Contents 5 0 R\\n/MediaBox [ 0 0 612 792 ]\\n/Resources <<\\n/Font 6 0 R\\n/ProcSet [ /PDF /Text /ImageB /ImageC /ImageI ]\\n>>\\n/Rotate 0\\n/Trans <<\\n>>\\n/Type /Page\\n/Parent 1 0 R\\n>>\\nendobj\\n5 0 obj\\n<<\\n/Filter [ /ASCII85Decode /FlateDecode ]\\n/Length 135\\n>>\\nstream\\nGapQh0E=F,0U\\\\H3T\\\\pNYT^QKk?tc>IP,;W#U1^23ihPEM_?CZ51'NLR)^%NXT`u>P(ataQECd6aL3nAuMF(?mP!VcUE`$C68S2;?6:jXYYsMW+:9(0X8<uSu(.c%=(BF85*iA~>\\nendstream\\nendobj\\n6 0 obj\\n<<\\n/F1 7 0 R\\n>>\\nendobj\\n7 0 obj\\n<<\\n/BaseFont /Helvetica\\n/Encoding /WinAnsiEncoding\\n/Name /F1\\n/Subtype /Type1\\n/Type /Font\\n>>\\nendobj\\nxref\\n0 8\\n0000000000 65535 f \\n0000000015 00000 n \\n0000000074 00000 n \\n0000000188 00000 n \\n0000000237 00000 n \\n0000000426 00000 n \\n0000000652 00000 n \\n0000000683 00000 n \\ntrailer\\n<<\\n/Size 8\\n/Root 3 0 R\\n/Info 2 0 R\\n>>\\nstartxref\\n790\\n%%EOF\\n000000000000000\"\n",
            "\n",
            "Metadata:\n",
            "Producer: CTRM\n",
            "Author: CTRM\n",
            "Flag: ctrm{weak_keys_can_be_problematic}\n",
            "Secret:  weak_keys_can_be_problematic\n",
            "\n",
            "Wait for the generation of the decrypted file...\n",
            "\n",
            "Decrypted PDF written to: decrypted_task1.pdf\n"
          ]
        }
      ]
    }
  ]
}