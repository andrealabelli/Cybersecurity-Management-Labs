{
  "nbformat": 4,
  "nbformat_minor": 0,
  "metadata": {
    "colab": {
      "provenance": [],
      "authorship_tag": "ABX9TyOcVV0Q+40RA0A6DTsogn9E",
      "include_colab_link": true
    },
    "kernelspec": {
      "name": "python3",
      "display_name": "Python 3"
    },
    "language_info": {
      "name": "python"
    }
  },
  "cells": [
    {
      "cell_type": "markdown",
      "metadata": {
        "id": "view-in-github",
        "colab_type": "text"
      },
      "source": [
        "<a href=\"https://colab.research.google.com/github/andrealabelli/Cybersecurity-Management-Labs/blob/main/Task2_Lab1.ipynb\" target=\"_parent\"><img src=\"https://colab.research.google.com/assets/colab-badge.svg\" alt=\"Open In Colab\"/></a>"
      ]
    },
    {
      "cell_type": "code",
      "execution_count": null,
      "metadata": {
        "colab": {
          "base_uri": "https://localhost:8080/"
        },
        "id": "ckiIOz6FaOJ4",
        "outputId": "7a048d1d-ab84-43e3-ebf4-471cafe27e92"
      },
      "outputs": [
        {
          "output_type": "stream",
          "name": "stdout",
          "text": [
            "Collecting pycryptodomex\n",
            "  Downloading pycryptodomex-3.20.0-cp35-abi3-manylinux_2_17_x86_64.manylinux2014_x86_64.whl (2.1 MB)\n",
            "\u001b[2K     \u001b[90m━━━━━━━━━━━━━━━━━━━━━━━━━━━━━━━━━━━━━━━━\u001b[0m \u001b[32m2.1/2.1 MB\u001b[0m \u001b[31m12.2 MB/s\u001b[0m eta \u001b[36m0:00:00\u001b[0m\n",
            "\u001b[?25hInstalling collected packages: pycryptodomex\n",
            "Successfully installed pycryptodomex-3.20.0\n",
            "Requirement already satisfied: cryptography in /usr/local/lib/python3.10/dist-packages (42.0.5)\n",
            "Requirement already satisfied: cffi>=1.12 in /usr/local/lib/python3.10/dist-packages (from cryptography) (1.16.0)\n",
            "Requirement already satisfied: pycparser in /usr/local/lib/python3.10/dist-packages (from cffi>=1.12->cryptography) (2.22)\n"
          ]
        }
      ],
      "source": [
        "!pip install pycryptodomex\n",
        "!pip install cryptography"
      ]
    },
    {
      "cell_type": "code",
      "source": [
        "import rsa\n",
        "\n",
        "# Load the private key from the file\n",
        "def load_private_key():\n",
        "    with open('private_key.pem', 'rb') as f:\n",
        "        private_key_data = f.read()\n",
        "        private_key = rsa.PrivateKey.load_pkcs1(private_key_data) # Loading the key in pkcs1 format\n",
        "    return private_key\n",
        "\n",
        "private_key = load_private_key()\n",
        "print(private_key)"
      ],
      "metadata": {
        "colab": {
          "base_uri": "https://localhost:8080/"
        },
        "id": "GQTgllY8aZzw",
        "outputId": "8bc4e42d-dada-44ac-e58c-2de34f643e19"
      },
      "execution_count": null,
      "outputs": [
        {
          "output_type": "stream",
          "name": "stdout",
          "text": [
            "PrivateKey(23960533714529025895441549397870247098981357891122361124834133088560026281022657589162729221574934944574020988415073504184536700020600750051648331095562390142147474641391555906367329095938852698599453138672274213559789317297135494492844443918194195886594902893353105747387699149580749752151485312175675047893310222057106230571671042521581109171993352643338951159631393736296348503316590904463770051200590225150050082522769966303255389681080999489016713550641483986355503074520414094150507551962906171727146125828950126550034928499159650177364386897501817336615920047293065812629032474360336283470146070650126841804391, 65537, 17405634818214105998598978954389226297943215076682688686255144545526431346978450074078142313208409033695164429504933387051855031731399980292947094722027774690439857984457164557278114707714068377785415338296071391109670107235333119029179521278932347800006258097666274904582656836798149658975456949299323111272404007036252972460204908321755233831214515342813626124332021459196544704028077547412572376456150460588978068379733660160507969912115264266444529786575374519759624828481287330844586933056973976649245813387373992876060975948976441942098218106255109189312307681534503951860676685670229341524301467681918081347521, 3221951265119285343748354111909812824132748099184622516315067081990234069871841194767749362696481832299799008688446621626077137713621368747701749517998760127478983707011655634449976683559022907345921680824332835565344551127642042200541659640272228602570934313230297997609086459303905784809282698241234318080602270459195040835957, 7436653053671170963412178262332126930874790491715628019535256318361988659708451120598392897650427375348405241844252589777203280388559659637703075884552676437385110095158290210246733666853174016809514431730870668238022403847197986713926754584547662396014942713585658141221138296505122736363)\n"
          ]
        }
      ]
    },
    {
      "cell_type": "code",
      "source": [
        "import hashlib\n",
        "import itertools\n",
        "\n",
        "# Function to crack the hash revealed\n",
        "def crack_hash(hash):\n",
        "    charset = \"abcdefghijklmnopqrstuvwxyz0123456789\"  # Lowercase letters and numbers -> It takes all the lowercase letters and numbers provided by the secret\n",
        "    max_password_length = 6  # Password length provided by the secret\n",
        "\n",
        "    # Brute force method to crack the hash\n",
        "    for length in range(1, max_password_length + 1):\n",
        "        # Generate all possible passwords of length 6\n",
        "        for combination in itertools.product(charset, repeat=length):\n",
        "            password = ''.join(combination)\n",
        "            hashed_password = hashlib.sha256(password.encode()).hexdigest() # Calculates the SHA-256 hash of the password\n",
        "            if hashed_password == hash:   # If the password matches the hash, return password\n",
        "                return password\n",
        "    return None\n",
        "\n",
        "\n",
        "# Read the encrypted data from a file\n",
        "with open(\"task2.enc\", mode='rb') as encryptedfile:\n",
        "    encrypted = encryptedfile.read()\n",
        "\n",
        "# Decrypt the data using the private key\n",
        "decrypted = rsa.decrypt(encrypted, private_key)\n",
        "print(decrypted)\n",
        "\n",
        "hash = \"bd0d1f5818d6b15310552d6fd26a7464afd8df94794d941f46829eb8f44c7967\"  # Hash saved\n",
        "print(\"Attempting to crack the hash...\")\n",
        "print(\"Estimated time: 4m 30s\")\n",
        "cracked_password = crack_hash(hash)\n",
        "if cracked_password:\n",
        "    print(\"Hash cracked! Password is:\", cracked_password)\n",
        "else:\n",
        "    print(\"Failed to crack the hash.\")"
      ],
      "metadata": {
        "colab": {
          "base_uri": "https://localhost:8080/"
        },
        "id": "z85ZtFNthRNV",
        "outputId": "56b77421-4e06-4783-e57a-6dc5be59b370"
      },
      "execution_count": null,
      "outputs": [
        {
          "output_type": "stream",
          "name": "stdout",
          "text": [
            "b'Hi! The leaked hash is bd0d1f5818d6b15310552d6fd26a7464afd8df94794d941f46829eb8f44c7967, my password is 6 characters long and contains lowercase letters and numbers'\n",
            "Attempting to crack the hash...\n",
            "Estimated time: 4m 30s\n",
            "Hash cracked! Password is: ctrm24\n"
          ]
        }
      ]
    }
  ]
}